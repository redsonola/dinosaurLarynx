{
 "cells": [
  {
   "cell_type": "code",
   "execution_count": 15,
   "metadata": {},
   "outputs": [
    {
     "data": {
      "image/png": "[encoded data removed]",
      "text/plain": [
       "<Figure size 432x288 with 1 Axes>"
      ]
     },
     "metadata": {
      "needs_background": "light"
     },
     "output_type": "display_data"
    }
   ],
   "source": [
    "import pandas as pd\n",
    "import numpy as np\n",
    "import matplotlib.pyplot as plt\n",
    "\n",
    " \n",
    "# Load the dataset\n",
    "df = pd.read_csv('mouthWidenessData1.csv')\n",
    "\n",
    "plt.boxplot(df['z'], vert=False)\n",
    "plt.ylabel('Variable')\n",
    "plt.xlabel('z')\n",
    "plt.title('Box Plot')\n",
    "plt.show()"
   ]
  },
  {
   "cell_type": "code",
   "execution_count": 16,
   "metadata": {},
   "outputs": [
    {
     "data": {
      "image/png": "[encoded data removed]",
      "text/plain": [
       "<Figure size 432x288 with 1 Axes>"
      ]
     },
     "metadata": {
      "needs_background": "light"
     },
     "output_type": "display_data"
    }
   ],
   "source": [
    "import pandas as pd\n",
    "import numpy as np\n",
    "import matplotlib.pyplot as plt\n",
    "\n",
    " \n",
    "# Load the dataset\n",
    "df = pd.read_csv('mouthWidenessData1.csv')\n",
    "\n",
    "plt.boxplot(df['scaledValue'], vert=False)\n",
    "plt.ylabel('Variable')\n",
    "plt.xlabel('scaledValue')\n",
    "plt.title('Box Plot')\n",
    "plt.show()"
   ]
  },
  {
   "cell_type": "code",
   "execution_count": 6,
   "metadata": {},
   "outputs": [
    {
     "name": "stdout",
     "output_type": "stream",
     "text": [
      "[0.14239084]\n",
      "['x0', 'x1', 'x2', 'x0^2', 'x0 x1', 'x0 x2', 'x1^2', 'x1 x2', 'x2^2', 'x0^3', 'x0^2 x1', 'x0^2 x2', 'x0 x1^2', 'x0 x1 x2', 'x0 x2^2', 'x1^3', 'x1^2 x2', 'x1 x2^2', 'x2^3']\n",
      "[[  24.2735987     7.37318134  -24.2204243    39.65292018  -36.72554185\n",
      "  -265.58151148   55.42195855  -12.89257628  231.80749177 -121.22899618\n",
      "   314.83504451  120.31485829 -128.38928698 -762.81821586  671.42468096\n",
      "    48.4001318  -190.80289448  631.81602523 -703.65027863]]\n"
     ]
    },
    {
     "data": {
      "image/png": "[encoded data removed]",
      "text/plain": [
       "<Figure size 432x288 with 1 Axes>"
      ]
     },
     "metadata": {
      "needs_background": "light"
     },
     "output_type": "display_data"
    }
   ],
   "source": [
    "######## Find the mouth wideness value for across camera distance given a user created data file from training UI \n",
    "######## Input: distance of mouth wideness from mediapipe & z value of 1st mouth point \n",
    "######## Training Data: mouth wideness value for across camera distance, wideness user determined.\n",
    "\n",
    "import pandas as pd\n",
    "import numpy as np\n",
    "import matplotlib.pyplot as plt\n",
    "import seaborn as sns\n",
    "from sklearn.preprocessing import PolynomialFeatures\n",
    "from sklearn.model_selection import train_test_split\n",
    "from sklearn.linear_model import LinearRegression\n",
    "from sklearn.metrics import mean_absolute_error,mean_squared_error\n",
    "\n",
    "polynomial_converter = PolynomialFeatures(degree=2,include_bias=False)\n",
    " \n",
    "# Load the dataset\n",
    "df = pd.read_csv('mouthWidenessData3.csv')\n",
    "\n",
    "df2 = df.drop_duplicates();\n",
    "\n",
    "# used the following link to help with the polynomial regression -- great bit of copied code\n",
    "# https://pieriantraining.com/nonlinear-regression-in-machine-learning-python/\n",
    "# Converter \"fits\" to data, in this case, reads in every X column\n",
    "# Then it \"transforms\" and ouputs the new polynomial data\n",
    "\n",
    "X = df2[['wideness', 'z', 'eyeDist']]; # adding the eye distance was the key to getting a good fit, https://github.com/HotaruK/mediapipe_demo/blob/main/keypoints/face_mesh_no.jpg helpful\n",
    "y = df2[['scaledValue']];\n",
    "\n",
    "poly_features = polynomial_converter.fit_transform(X);\n",
    "poly_features.shape;\n",
    "\n",
    "X_train, X_test, y_train, y_test = train_test_split(poly_features, y, test_size=0.3, random_state=101)\n",
    "\n",
    "model = LinearRegression(fit_intercept=True)\n",
    "model.fit(X_train,y_train)\n",
    "\n",
    "test_predictions = model.predict(X_test)\n",
    "\n",
    "MAE = mean_absolute_error(y_test,test_predictions)\n",
    "MSE = mean_squared_error(y_test,test_predictions)\n",
    "RMSE = np.sqrt(MSE)\n",
    "\n",
    "##########\n",
    "\n",
    "# TRAINING ERROR PER DEGREE\n",
    "train_rmse_errors = []\n",
    "# TEST ERROR PER DEGREE\n",
    "test_rmse_errors = []\n",
    "\n",
    "for d in range(1,10):\n",
    "\n",
    "    # CREATE POLY DATA SET FOR DEGREE \"d\"\n",
    "    polynomial_converter = PolynomialFeatures(degree=d,include_bias=False)\n",
    "    poly_features = polynomial_converter.fit_transform(X)\n",
    "\n",
    "    # SPLIT THIS NEW POLY DATA SET\n",
    "    X_train, X_test, y_train, y_test = train_test_split(poly_features, y, test_size=0.3, random_state=101)\n",
    "\n",
    "    # TRAIN ON THIS NEW POLY SET\n",
    "    model = LinearRegression(fit_intercept=True)\n",
    "    model.fit(X_train,y_train)\n",
    "\n",
    "    # PREDICT ON BOTH TRAIN AND TEST\n",
    "    train_pred = model.predict(X_train)\n",
    "    test_pred = model.predict(X_test)\n",
    "\n",
    "    # Calculate Errors\n",
    "\n",
    "    # Errors on Train Set\n",
    "    train_RMSE = np.sqrt(mean_squared_error(y_train,train_pred))\n",
    "\n",
    "    # Errors on Test Set\n",
    "    test_RMSE = np.sqrt(mean_squared_error(y_test,test_pred))\n",
    "\n",
    "    # Append errors to lists for plotting later\n",
    "    train_rmse_errors.append(train_RMSE)\n",
    "    test_rmse_errors.append(test_RMSE)\n",
    "\n",
    "##########\n",
    "\n",
    "plt.plot(range(1,6),train_rmse_errors[:5],label='TRAIN')\n",
    "plt.plot(range(1,6),test_rmse_errors[:5],label='TEST')\n",
    "plt.xlabel(\"Polynomial Complexity\")\n",
    "plt.ylabel(\"RMSE\")\n",
    "plt.legend()\n",
    "\n",
    "#################\n",
    "\n",
    "# Based on our chart, could have also been degree=4, but\n",
    "# it is better to be on the safe side of complexity\n",
    "final_poly_converter = PolynomialFeatures(degree=3,include_bias=False)\n",
    "final_model = LinearRegression()\n",
    "final_model.fit(final_poly_converter.fit_transform(X),y)\n",
    "\n",
    "# print the coefficients and intercept so can use the equation in the dinosaur model UI\n",
    "print(final_model.intercept_)\n",
    "print(final_poly_converter.get_feature_names())\n",
    "print(final_model.coef_)\n",
    "# list(zip(X, final_model.coef_))\n",
    "\n",
    "# Y = (m1 * x1) + (m2 * x2) + (m3 * x1 ** 2) + (m4 * x2 ** 2) + (m5 * x1 * x2)\n",
    "\n",
    "# Y = (m1 * x1) + (m2 * x2) + (m3 * x1 ** 2) + (m4 * x2 ** 2) + + (m5 * x1 ** 3) + (m6 * x2 ** 3) + (m7 * x1 * x2) + (m8 * x2 ** x3) + (m9 * x1 * x2)\n",
    "\n",
    "\n"
   ]
  }
 ],
 "metadata": {
  "kernelspec": {
   "display_name": "base",
   "language": "python",
   "name": "python3"
  },
  "language_info": {
   "codemirror_mode": {
    "name": "ipython",
    "version": 3
   },
   "file_extension": ".py",
   "mimetype": "text/x-python",
   "name": "python",
   "nbconvert_exporter": "python",
   "pygments_lexer": "ipython3",
   "version": "3.8.3"
  }
 },
 "nbformat": 4,
 "nbformat_minor": 2
}
