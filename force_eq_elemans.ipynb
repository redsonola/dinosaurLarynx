{
 "cells": [
  {
   "cell_type": "code",
   "execution_count": 15,
   "metadata": {},
   "outputs": [
    {
     "name": "stdout",
     "output_type": "stream",
     "text": [
      "Piecewise((Ps*(d1 - d2)*(Integral(d1**3*Heaviside(d1 + d2 - z, 0)/(d1**4 - 2*d1**3*d2 - 2*d1**3*z + d1**2*d2**2 + 4*d1**2*d2*z - 2*d1**2*x1**2 + 2*d1**2*x1*x2 + d1**2*z**2 - 2*d1*d2**2*z + 2*d1*d2*x1**2 - 2*d1*d2*x1*x2 - 2*d1*d2*z**2 + 2*d1*x1**2*z - 2*d1*x1*x2*z + d2**2*z**2 - 2*d2*x1**2*z + 2*d2*x1*x2*z + x1**4 - 2*x1**3*x2 + x1**2*x2**2), z) + Integral(d2**3*Heaviside(d1 + d2 - z, 0)/(d1**4 - 2*d1**3*d2 - 2*d1**3*z + d1**2*d2**2 + 4*d1**2*d2*z - 2*d1**2*x1**2 + 2*d1**2*x1*x2 + d1**2*z**2 - 2*d1*d2**2*z + 2*d1*d2*x1**2 - 2*d1*d2*x1*x2 - 2*d1*d2*z**2 + 2*d1*x1**2*z - 2*d1*x1*x2*z + d2**2*z**2 - 2*d2*x1**2*z + 2*d2*x1*x2*z + x1**4 - 2*x1**3*x2 + x1**2*x2**2), z) + Integral(-d1*d2**2*Heaviside(d1 + d2 - z, 0)/(d1**4 - 2*d1**3*d2 - 2*d1**3*z + d1**2*d2**2 + 4*d1**2*d2*z - 2*d1**2*x1**2 + 2*d1**2*x1*x2 + d1**2*z**2 - 2*d1*d2**2*z + 2*d1*d2*x1**2 - 2*d1*d2*x1*x2 - 2*d1*d2*z**2 + 2*d1*x1**2*z - 2*d1*x1*x2*z + d2**2*z**2 - 2*d2*x1**2*z + 2*d2*x1*x2*z + x1**4 - 2*x1**3*x2 + x1**2*x2**2), z) + Integral(-2*d1*x1**2*Heaviside(d1 + d2 - z, 0)/(d1**4 - 2*d1**3*d2 - 2*d1**3*z + d1**2*d2**2 + 4*d1**2*d2*z - 2*d1**2*x1**2 + 2*d1**2*x1*x2 + d1**2*z**2 - 2*d1*d2**2*z + 2*d1*d2*x1**2 - 2*d1*d2*x1*x2 - 2*d1*d2*z**2 + 2*d1*x1**2*z - 2*d1*x1*x2*z + d2**2*z**2 - 2*d2*x1**2*z + 2*d2*x1*x2*z + x1**4 - 2*x1**3*x2 + x1**2*x2**2), z) + Integral(d1*z**2*Heaviside(d1 + d2 - z, 0)/(d1**4 - 2*d1**3*d2 - 2*d1**3*z + d1**2*d2**2 + 4*d1**2*d2*z - 2*d1**2*x1**2 + 2*d1**2*x1*x2 + d1**2*z**2 - 2*d1*d2**2*z + 2*d1*d2*x1**2 - 2*d1*d2*x1*x2 - 2*d1*d2*z**2 + 2*d1*x1**2*z - 2*d1*x1*x2*z + d2**2*z**2 - 2*d2*x1**2*z + 2*d2*x1*x2*z + x1**4 - 2*x1**3*x2 + x1**2*x2**2), z) + Integral(-d1**2*d2*Heaviside(d1 + d2 - z, 0)/(d1**4 - 2*d1**3*d2 - 2*d1**3*z + d1**2*d2**2 + 4*d1**2*d2*z - 2*d1**2*x1**2 + 2*d1**2*x1*x2 + d1**2*z**2 - 2*d1*d2**2*z + 2*d1*d2*x1**2 - 2*d1*d2*x1*x2 - 2*d1*d2*z**2 + 2*d1*x1**2*z - 2*d1*x1*x2*z + d2**2*z**2 - 2*d2*x1**2*z + 2*d2*x1*x2*z + x1**4 - 2*x1**3*x2 + x1**2*x2**2), z) + Integral(-2*d1**2*z*Heaviside(d1 + d2 - z, 0)/(d1**4 - 2*d1**3*d2 - 2*d1**3*z + d1**2*d2**2 + 4*d1**2*d2*z - 2*d1**2*x1**2 + 2*d1**2*x1*x2 + d1**2*z**2 - 2*d1*d2**2*z + 2*d1*d2*x1**2 - 2*d1*d2*x1*x2 - 2*d1*d2*z**2 + 2*d1*x1**2*z - 2*d1*x1*x2*z + d2**2*z**2 - 2*d2*x1**2*z + 2*d2*x1*x2*z + x1**4 - 2*x1**3*x2 + x1**2*x2**2), z) + Integral(-2*d2*x1**2*Heaviside(d1 + d2 - z, 0)/(d1**4 - 2*d1**3*d2 - 2*d1**3*z + d1**2*d2**2 + 4*d1**2*d2*z - 2*d1**2*x1**2 + 2*d1**2*x1*x2 + d1**2*z**2 - 2*d1*d2**2*z + 2*d1*d2*x1**2 - 2*d1*d2*x1*x2 - 2*d1*d2*z**2 + 2*d1*x1**2*z - 2*d1*x1*x2*z + d2**2*z**2 - 2*d2*x1**2*z + 2*d2*x1*x2*z + x1**4 - 2*x1**3*x2 + x1**2*x2**2), z) + Integral(-d2*z**2*Heaviside(d1 + d2 - z, 0)/(d1**4 - 2*d1**3*d2 - 2*d1**3*z + d1**2*d2**2 + 4*d1**2*d2*z - 2*d1**2*x1**2 + 2*d1**2*x1*x2 + d1**2*z**2 - 2*d1*d2**2*z + 2*d1*d2*x1**2 - 2*d1*d2*x1*x2 - 2*d1*d2*z**2 + 2*d1*x1**2*z - 2*d1*x1*x2*z + d2**2*z**2 - 2*d2*x1**2*z + 2*d2*x1*x2*z + x1**4 - 2*x1**3*x2 + x1**2*x2**2), z) + Integral(2*x1**2*z*Heaviside(d1 + d2 - z, 0)/(d1**4 - 2*d1**3*d2 - 2*d1**3*z + d1**2*d2**2 + 4*d1**2*d2*z - 2*d1**2*x1**2 + 2*d1**2*x1*x2 + d1**2*z**2 - 2*d1*d2**2*z + 2*d1*d2*x1**2 - 2*d1*d2*x1*x2 - 2*d1*d2*z**2 + 2*d1*x1**2*z - 2*d1*x1*x2*z + d2**2*z**2 - 2*d2*x1**2*z + 2*d2*x1*x2*z + x1**4 - 2*x1**3*x2 + x1**2*x2**2), z) + Integral(2*d1*d2*z*Heaviside(d1 + d2 - z, 0)/(d1**4 - 2*d1**3*d2 - 2*d1**3*z + d1**2*d2**2 + 4*d1**2*d2*z - 2*d1**2*x1**2 + 2*d1**2*x1*x2 + d1**2*z**2 - 2*d1*d2**2*z + 2*d1*d2*x1**2 - 2*d1*d2*x1*x2 - 2*d1*d2*z**2 + 2*d1*x1**2*z - 2*d1*x1*x2*z + d2**2*z**2 - 2*d2*x1**2*z + 2*d2*x1*x2*z + x1**4 - 2*x1**3*x2 + x1**2*x2**2), z) + Integral(2*d1*x1*x2*Heaviside(d1 + d2 - z, 0)/(d1**4 - 2*d1**3*d2 - 2*d1**3*z + d1**2*d2**2 + 4*d1**2*d2*z - 2*d1**2*x1**2 + 2*d1**2*x1*x2 + d1**2*z**2 - 2*d1*d2**2*z + 2*d1*d2*x1**2 - 2*d1*d2*x1*x2 - 2*d1*d2*z**2 + 2*d1*x1**2*z - 2*d1*x1*x2*z + d2**2*z**2 - 2*d2*x1**2*z + 2*d2*x1*x2*z + x1**4 - 2*x1**3*x2 + x1**2*x2**2), z) + Integral(2*d2*x1*x2*Heaviside(d1 + d2 - z, 0)/(d1**4 - 2*d1**3*d2 - 2*d1**3*z + d1**2*d2**2 + 4*d1**2*d2*z - 2*d1**2*x1**2 + 2*d1**2*x1*x2 + d1**2*z**2 - 2*d1*d2**2*z + 2*d1*d2*x1**2 - 2*d1*d2*x1*x2 - 2*d1*d2*z**2 + 2*d1*x1**2*z - 2*d1*x1*x2*z + d2**2*z**2 - 2*d2*x1**2*z + 2*d2*x1*x2*z + x1**4 - 2*x1**3*x2 + x1**2*x2**2), z) + Integral(-2*x1*x2*z*Heaviside(d1 + d2 - z, 0)/(d1**4 - 2*d1**3*d2 - 2*d1**3*z + d1**2*d2**2 + 4*d1**2*d2*z - 2*d1**2*x1**2 + 2*d1**2*x1*x2 + d1**2*z**2 - 2*d1*d2**2*z + 2*d1*d2*x1**2 - 2*d1*d2*x1*x2 - 2*d1*d2*z**2 + 2*d1*x1**2*z - 2*d1*x1*x2*z + d2**2*z**2 - 2*d2*x1**2*z + 2*d2*x1*x2*z + x1**4 - 2*x1**3*x2 + x1**2*x2**2), z)), 2*l*(-d1*(-d1 + d2)/(-x1 + x2) + x1 + (-d1 + d2)*(d1 + d2)/(-x1 + x2)) > 0), (Ps*Integral(Heaviside(d1**2*x1/(d1*x1 - d1*x2 - d2*x1 + d2*x2) - d1**2*x2/(d1*x1 - d1*x2 - d2*x1 + d2*x2) - d1*d2*x1/(d1*x1 - d1*x2 - d2*x1 + d2*x2) + d1*d2*x2/(d1*x1 - d1*x2 - d2*x1 + d2*x2) + x1**2/(-d1 + d2) - x1*x2/(-d1 + d2) - z, 0), z), True))\n"
     ]
    }
   ],
   "source": [
    "from sympy import *;\n",
    "\n",
    "z = Symbol('z', real=True)\n",
    "d1 = Symbol('d1', real=True)\n",
    "d2 = Symbol('d2', real=True)\n",
    "x1 = Symbol('x1', real=True)\n",
    "x2 = Symbol('x2', real=True)\n",
    "l = Symbol('l', real=True)\n",
    "#zM = Symbol('zM', real=True)\n",
    "Ps = Symbol('Ps', real=True)\n",
    "\n",
    "\n",
    "#a(z) definition\n",
    "x = ( (d2-d1)/(x2-x1) )*z  + (x1-(d1*((d2-d1)/(x2-x1))))\n",
    "a = 2*l*x\n",
    "\n",
    "#a1\n",
    "x_a1 = ( (d2-d1)/(x2-x1) )*d1  + (x1-(d1*((d2-d1)/(x2-x1))))\n",
    "a1 = 2*l*x_a1\n",
    "\n",
    "#a2\n",
    "x_a2 = ( (d2-d1)/(x2-x1) )*(d1+d2)  + (x1-(d1*((d2-d1)/(x2-x1))))\n",
    "a2 = 2*l*x_a2\n",
    "\n",
    "#piecewise to find aMin\n",
    "aMin = Piecewise(  \n",
    "    (a1, a1 < a1),\n",
    "    (a2, True)\n",
    ")\n",
    "\n",
    "zM = Piecewise(  \n",
    "    (d1, a1 < a1),\n",
    "    (d1+d2, True)\n",
    ")\n",
    "\n",
    "min0 = -(x1-(d1*((d2-d1)/(x2-x1))))/( (d2-d1)/(x2-x1) )\n",
    "\n",
    "Pz = Piecewise(  \n",
    "    (Ps*( ( 1 - (aMin/a)**2 )*Heaviside(zM-z, 0)  ), aMin > 0),\n",
    "    (Ps*Heaviside(min0-z, 0), True)\n",
    ")\n",
    "\n",
    "zIntegrate = integrate(Pz, z)\n",
    "print(zIntegrate)\n",
    "\n",
    "\n"
   ]
  },
  {
   "cell_type": "code",
   "execution_count": 17,
   "metadata": {},
   "outputs": [
    {
     "data": {
      "text/latex": [
       "$\\displaystyle \\begin{cases} Ps \\left(d_{1} - d_{2}\\right) \\left(d_{1}^{3} \\int \\frac{\\theta\\left(d_{1} + d_{2} - z\\right)}{d_{1}^{4} - 2 d_{1}^{3} d_{2} - 2 d_{1}^{3} z + d_{1}^{2} d_{2}^{2} + 4 d_{1}^{2} d_{2} z - 2 d_{1}^{2} x_{1}^{2} + 2 d_{1}^{2} x_{1} x_{2} + d_{1}^{2} z^{2} - 2 d_{1} d_{2}^{2} z + 2 d_{1} d_{2} x_{1}^{2} - 2 d_{1} d_{2} x_{1} x_{2} - 2 d_{1} d_{2} z^{2} + 2 d_{1} x_{1}^{2} z - 2 d_{1} x_{1} x_{2} z + d_{2}^{2} z^{2} - 2 d_{2} x_{1}^{2} z + 2 d_{2} x_{1} x_{2} z + x_{1}^{4} - 2 x_{1}^{3} x_{2} + x_{1}^{2} x_{2}^{2}}\\, dz - d_{1}^{2} d_{2} \\int \\frac{\\theta\\left(d_{1} + d_{2} - z\\right)}{d_{1}^{4} - 2 d_{1}^{3} d_{2} - 2 d_{1}^{3} z + d_{1}^{2} d_{2}^{2} + 4 d_{1}^{2} d_{2} z - 2 d_{1}^{2} x_{1}^{2} + 2 d_{1}^{2} x_{1} x_{2} + d_{1}^{2} z^{2} - 2 d_{1} d_{2}^{2} z + 2 d_{1} d_{2} x_{1}^{2} - 2 d_{1} d_{2} x_{1} x_{2} - 2 d_{1} d_{2} z^{2} + 2 d_{1} x_{1}^{2} z - 2 d_{1} x_{1} x_{2} z + d_{2}^{2} z^{2} - 2 d_{2} x_{1}^{2} z + 2 d_{2} x_{1} x_{2} z + x_{1}^{4} - 2 x_{1}^{3} x_{2} + x_{1}^{2} x_{2}^{2}}\\, dz - 2 d_{1}^{2} \\int \\frac{z \\theta\\left(d_{1} + d_{2} - z\\right)}{d_{1}^{4} - 2 d_{1}^{3} d_{2} - 2 d_{1}^{3} z + d_{1}^{2} d_{2}^{2} + 4 d_{1}^{2} d_{2} z - 2 d_{1}^{2} x_{1}^{2} + 2 d_{1}^{2} x_{1} x_{2} + d_{1}^{2} z^{2} - 2 d_{1} d_{2}^{2} z + 2 d_{1} d_{2} x_{1}^{2} - 2 d_{1} d_{2} x_{1} x_{2} - 2 d_{1} d_{2} z^{2} + 2 d_{1} x_{1}^{2} z - 2 d_{1} x_{1} x_{2} z + d_{2}^{2} z^{2} - 2 d_{2} x_{1}^{2} z + 2 d_{2} x_{1} x_{2} z + x_{1}^{4} - 2 x_{1}^{3} x_{2} + x_{1}^{2} x_{2}^{2}}\\, dz - d_{1} d_{2}^{2} \\int \\frac{\\theta\\left(d_{1} + d_{2} - z\\right)}{d_{1}^{4} - 2 d_{1}^{3} d_{2} - 2 d_{1}^{3} z + d_{1}^{2} d_{2}^{2} + 4 d_{1}^{2} d_{2} z - 2 d_{1}^{2} x_{1}^{2} + 2 d_{1}^{2} x_{1} x_{2} + d_{1}^{2} z^{2} - 2 d_{1} d_{2}^{2} z + 2 d_{1} d_{2} x_{1}^{2} - 2 d_{1} d_{2} x_{1} x_{2} - 2 d_{1} d_{2} z^{2} + 2 d_{1} x_{1}^{2} z - 2 d_{1} x_{1} x_{2} z + d_{2}^{2} z^{2} - 2 d_{2} x_{1}^{2} z + 2 d_{2} x_{1} x_{2} z + x_{1}^{4} - 2 x_{1}^{3} x_{2} + x_{1}^{2} x_{2}^{2}}\\, dz + 2 d_{1} d_{2} \\int \\frac{z \\theta\\left(d_{1} + d_{2} - z\\right)}{d_{1}^{4} - 2 d_{1}^{3} d_{2} - 2 d_{1}^{3} z + d_{1}^{2} d_{2}^{2} + 4 d_{1}^{2} d_{2} z - 2 d_{1}^{2} x_{1}^{2} + 2 d_{1}^{2} x_{1} x_{2} + d_{1}^{2} z^{2} - 2 d_{1} d_{2}^{2} z + 2 d_{1} d_{2} x_{1}^{2} - 2 d_{1} d_{2} x_{1} x_{2} - 2 d_{1} d_{2} z^{2} + 2 d_{1} x_{1}^{2} z - 2 d_{1} x_{1} x_{2} z + d_{2}^{2} z^{2} - 2 d_{2} x_{1}^{2} z + 2 d_{2} x_{1} x_{2} z + x_{1}^{4} - 2 x_{1}^{3} x_{2} + x_{1}^{2} x_{2}^{2}}\\, dz - 2 d_{1} x_{1}^{2} \\int \\frac{\\theta\\left(d_{1} + d_{2} - z\\right)}{d_{1}^{4} - 2 d_{1}^{3} d_{2} - 2 d_{1}^{3} z + d_{1}^{2} d_{2}^{2} + 4 d_{1}^{2} d_{2} z - 2 d_{1}^{2} x_{1}^{2} + 2 d_{1}^{2} x_{1} x_{2} + d_{1}^{2} z^{2} - 2 d_{1} d_{2}^{2} z + 2 d_{1} d_{2} x_{1}^{2} - 2 d_{1} d_{2} x_{1} x_{2} - 2 d_{1} d_{2} z^{2} + 2 d_{1} x_{1}^{2} z - 2 d_{1} x_{1} x_{2} z + d_{2}^{2} z^{2} - 2 d_{2} x_{1}^{2} z + 2 d_{2} x_{1} x_{2} z + x_{1}^{4} - 2 x_{1}^{3} x_{2} + x_{1}^{2} x_{2}^{2}}\\, dz + 2 d_{1} x_{1} x_{2} \\int \\frac{\\theta\\left(d_{1} + d_{2} - z\\right)}{d_{1}^{4} - 2 d_{1}^{3} d_{2} - 2 d_{1}^{3} z + d_{1}^{2} d_{2}^{2} + 4 d_{1}^{2} d_{2} z - 2 d_{1}^{2} x_{1}^{2} + 2 d_{1}^{2} x_{1} x_{2} + d_{1}^{2} z^{2} - 2 d_{1} d_{2}^{2} z + 2 d_{1} d_{2} x_{1}^{2} - 2 d_{1} d_{2} x_{1} x_{2} - 2 d_{1} d_{2} z^{2} + 2 d_{1} x_{1}^{2} z - 2 d_{1} x_{1} x_{2} z + d_{2}^{2} z^{2} - 2 d_{2} x_{1}^{2} z + 2 d_{2} x_{1} x_{2} z + x_{1}^{4} - 2 x_{1}^{3} x_{2} + x_{1}^{2} x_{2}^{2}}\\, dz + d_{1} \\int \\frac{z^{2} \\theta\\left(d_{1} + d_{2} - z\\right)}{d_{1}^{4} - 2 d_{1}^{3} d_{2} - 2 d_{1}^{3} z + d_{1}^{2} d_{2}^{2} + 4 d_{1}^{2} d_{2} z - 2 d_{1}^{2} x_{1}^{2} + 2 d_{1}^{2} x_{1} x_{2} + d_{1}^{2} z^{2} - 2 d_{1} d_{2}^{2} z + 2 d_{1} d_{2} x_{1}^{2} - 2 d_{1} d_{2} x_{1} x_{2} - 2 d_{1} d_{2} z^{2} + 2 d_{1} x_{1}^{2} z - 2 d_{1} x_{1} x_{2} z + d_{2}^{2} z^{2} - 2 d_{2} x_{1}^{2} z + 2 d_{2} x_{1} x_{2} z + x_{1}^{4} - 2 x_{1}^{3} x_{2} + x_{1}^{2} x_{2}^{2}}\\, dz + d_{2}^{3} \\int \\frac{\\theta\\left(d_{1} + d_{2} - z\\right)}{d_{1}^{4} - 2 d_{1}^{3} d_{2} - 2 d_{1}^{3} z + d_{1}^{2} d_{2}^{2} + 4 d_{1}^{2} d_{2} z - 2 d_{1}^{2} x_{1}^{2} + 2 d_{1}^{2} x_{1} x_{2} + d_{1}^{2} z^{2} - 2 d_{1} d_{2}^{2} z + 2 d_{1} d_{2} x_{1}^{2} - 2 d_{1} d_{2} x_{1} x_{2} - 2 d_{1} d_{2} z^{2} + 2 d_{1} x_{1}^{2} z - 2 d_{1} x_{1} x_{2} z + d_{2}^{2} z^{2} - 2 d_{2} x_{1}^{2} z + 2 d_{2} x_{1} x_{2} z + x_{1}^{4} - 2 x_{1}^{3} x_{2} + x_{1}^{2} x_{2}^{2}}\\, dz - 2 d_{2} x_{1}^{2} \\int \\frac{\\theta\\left(d_{1} + d_{2} - z\\right)}{d_{1}^{4} - 2 d_{1}^{3} d_{2} - 2 d_{1}^{3} z + d_{1}^{2} d_{2}^{2} + 4 d_{1}^{2} d_{2} z - 2 d_{1}^{2} x_{1}^{2} + 2 d_{1}^{2} x_{1} x_{2} + d_{1}^{2} z^{2} - 2 d_{1} d_{2}^{2} z + 2 d_{1} d_{2} x_{1}^{2} - 2 d_{1} d_{2} x_{1} x_{2} - 2 d_{1} d_{2} z^{2} + 2 d_{1} x_{1}^{2} z - 2 d_{1} x_{1} x_{2} z + d_{2}^{2} z^{2} - 2 d_{2} x_{1}^{2} z + 2 d_{2} x_{1} x_{2} z + x_{1}^{4} - 2 x_{1}^{3} x_{2} + x_{1}^{2} x_{2}^{2}}\\, dz + 2 d_{2} x_{1} x_{2} \\int \\frac{\\theta\\left(d_{1} + d_{2} - z\\right)}{d_{1}^{4} - 2 d_{1}^{3} d_{2} - 2 d_{1}^{3} z + d_{1}^{2} d_{2}^{2} + 4 d_{1}^{2} d_{2} z - 2 d_{1}^{2} x_{1}^{2} + 2 d_{1}^{2} x_{1} x_{2} + d_{1}^{2} z^{2} - 2 d_{1} d_{2}^{2} z + 2 d_{1} d_{2} x_{1}^{2} - 2 d_{1} d_{2} x_{1} x_{2} - 2 d_{1} d_{2} z^{2} + 2 d_{1} x_{1}^{2} z - 2 d_{1} x_{1} x_{2} z + d_{2}^{2} z^{2} - 2 d_{2} x_{1}^{2} z + 2 d_{2} x_{1} x_{2} z + x_{1}^{4} - 2 x_{1}^{3} x_{2} + x_{1}^{2} x_{2}^{2}}\\, dz - d_{2} \\int \\frac{z^{2} \\theta\\left(d_{1} + d_{2} - z\\right)}{d_{1}^{4} - 2 d_{1}^{3} d_{2} - 2 d_{1}^{3} z + d_{1}^{2} d_{2}^{2} + 4 d_{1}^{2} d_{2} z - 2 d_{1}^{2} x_{1}^{2} + 2 d_{1}^{2} x_{1} x_{2} + d_{1}^{2} z^{2} - 2 d_{1} d_{2}^{2} z + 2 d_{1} d_{2} x_{1}^{2} - 2 d_{1} d_{2} x_{1} x_{2} - 2 d_{1} d_{2} z^{2} + 2 d_{1} x_{1}^{2} z - 2 d_{1} x_{1} x_{2} z + d_{2}^{2} z^{2} - 2 d_{2} x_{1}^{2} z + 2 d_{2} x_{1} x_{2} z + x_{1}^{4} - 2 x_{1}^{3} x_{2} + x_{1}^{2} x_{2}^{2}}\\, dz + 2 x_{1}^{2} \\int \\frac{z \\theta\\left(d_{1} + d_{2} - z\\right)}{d_{1}^{4} - 2 d_{1}^{3} d_{2} - 2 d_{1}^{3} z + d_{1}^{2} d_{2}^{2} + 4 d_{1}^{2} d_{2} z - 2 d_{1}^{2} x_{1}^{2} + 2 d_{1}^{2} x_{1} x_{2} + d_{1}^{2} z^{2} - 2 d_{1} d_{2}^{2} z + 2 d_{1} d_{2} x_{1}^{2} - 2 d_{1} d_{2} x_{1} x_{2} - 2 d_{1} d_{2} z^{2} + 2 d_{1} x_{1}^{2} z - 2 d_{1} x_{1} x_{2} z + d_{2}^{2} z^{2} - 2 d_{2} x_{1}^{2} z + 2 d_{2} x_{1} x_{2} z + x_{1}^{4} - 2 x_{1}^{3} x_{2} + x_{1}^{2} x_{2}^{2}}\\, dz - 2 x_{1} x_{2} \\int \\frac{z \\theta\\left(d_{1} + d_{2} - z\\right)}{d_{1}^{4} - 2 d_{1}^{3} d_{2} - 2 d_{1}^{3} z + d_{1}^{2} d_{2}^{2} + 4 d_{1}^{2} d_{2} z - 2 d_{1}^{2} x_{1}^{2} + 2 d_{1}^{2} x_{1} x_{2} + d_{1}^{2} z^{2} - 2 d_{1} d_{2}^{2} z + 2 d_{1} d_{2} x_{1}^{2} - 2 d_{1} d_{2} x_{1} x_{2} - 2 d_{1} d_{2} z^{2} + 2 d_{1} x_{1}^{2} z - 2 d_{1} x_{1} x_{2} z + d_{2}^{2} z^{2} - 2 d_{2} x_{1}^{2} z + 2 d_{2} x_{1} x_{2} z + x_{1}^{4} - 2 x_{1}^{3} x_{2} + x_{1}^{2} x_{2}^{2}}\\, dz\\right) & \\text{for}\\: \\frac{2 l \\left(d_{1} d_{2} - d_{2}^{2} + x_{1}^{2} - x_{1} x_{2}\\right)}{x_{1} - x_{2}} > 0 \\\\Ps \\int \\theta\\left(\\frac{d_{1} \\left(d_{1} - d_{2}\\right) - x_{1} \\left(x_{1} - x_{2}\\right) - z \\left(d_{1} - d_{2}\\right)}{d_{1} - d_{2}}\\right)\\, dz & \\text{otherwise} \\end{cases}$"
      ],
      "text/plain": [
       "Piecewise((Ps*(d1 - d2)*(d1**3*Integral(Heaviside(d1 + d2 - z, 0)/(d1**4 - 2*d1**3*d2 - 2*d1**3*z + d1**2*d2**2 + 4*d1**2*d2*z - 2*d1**2*x1**2 + 2*d1**2*x1*x2 + d1**2*z**2 - 2*d1*d2**2*z + 2*d1*d2*x1**2 - 2*d1*d2*x1*x2 - 2*d1*d2*z**2 + 2*d1*x1**2*z - 2*d1*x1*x2*z + d2**2*z**2 - 2*d2*x1**2*z + 2*d2*x1*x2*z + x1**4 - 2*x1**3*x2 + x1**2*x2**2), z) - d1**2*d2*Integral(Heaviside(d1 + d2 - z, 0)/(d1**4 - 2*d1**3*d2 - 2*d1**3*z + d1**2*d2**2 + 4*d1**2*d2*z - 2*d1**2*x1**2 + 2*d1**2*x1*x2 + d1**2*z**2 - 2*d1*d2**2*z + 2*d1*d2*x1**2 - 2*d1*d2*x1*x2 - 2*d1*d2*z**2 + 2*d1*x1**2*z - 2*d1*x1*x2*z + d2**2*z**2 - 2*d2*x1**2*z + 2*d2*x1*x2*z + x1**4 - 2*x1**3*x2 + x1**2*x2**2), z) - 2*d1**2*Integral(z*Heaviside(d1 + d2 - z, 0)/(d1**4 - 2*d1**3*d2 - 2*d1**3*z + d1**2*d2**2 + 4*d1**2*d2*z - 2*d1**2*x1**2 + 2*d1**2*x1*x2 + d1**2*z**2 - 2*d1*d2**2*z + 2*d1*d2*x1**2 - 2*d1*d2*x1*x2 - 2*d1*d2*z**2 + 2*d1*x1**2*z - 2*d1*x1*x2*z + d2**2*z**2 - 2*d2*x1**2*z + 2*d2*x1*x2*z + x1**4 - 2*x1**3*x2 + x1**2*x2**2), z) - d1*d2**2*Integral(Heaviside(d1 + d2 - z, 0)/(d1**4 - 2*d1**3*d2 - 2*d1**3*z + d1**2*d2**2 + 4*d1**2*d2*z - 2*d1**2*x1**2 + 2*d1**2*x1*x2 + d1**2*z**2 - 2*d1*d2**2*z + 2*d1*d2*x1**2 - 2*d1*d2*x1*x2 - 2*d1*d2*z**2 + 2*d1*x1**2*z - 2*d1*x1*x2*z + d2**2*z**2 - 2*d2*x1**2*z + 2*d2*x1*x2*z + x1**4 - 2*x1**3*x2 + x1**2*x2**2), z) + 2*d1*d2*Integral(z*Heaviside(d1 + d2 - z, 0)/(d1**4 - 2*d1**3*d2 - 2*d1**3*z + d1**2*d2**2 + 4*d1**2*d2*z - 2*d1**2*x1**2 + 2*d1**2*x1*x2 + d1**2*z**2 - 2*d1*d2**2*z + 2*d1*d2*x1**2 - 2*d1*d2*x1*x2 - 2*d1*d2*z**2 + 2*d1*x1**2*z - 2*d1*x1*x2*z + d2**2*z**2 - 2*d2*x1**2*z + 2*d2*x1*x2*z + x1**4 - 2*x1**3*x2 + x1**2*x2**2), z) - 2*d1*x1**2*Integral(Heaviside(d1 + d2 - z, 0)/(d1**4 - 2*d1**3*d2 - 2*d1**3*z + d1**2*d2**2 + 4*d1**2*d2*z - 2*d1**2*x1**2 + 2*d1**2*x1*x2 + d1**2*z**2 - 2*d1*d2**2*z + 2*d1*d2*x1**2 - 2*d1*d2*x1*x2 - 2*d1*d2*z**2 + 2*d1*x1**2*z - 2*d1*x1*x2*z + d2**2*z**2 - 2*d2*x1**2*z + 2*d2*x1*x2*z + x1**4 - 2*x1**3*x2 + x1**2*x2**2), z) + 2*d1*x1*x2*Integral(Heaviside(d1 + d2 - z, 0)/(d1**4 - 2*d1**3*d2 - 2*d1**3*z + d1**2*d2**2 + 4*d1**2*d2*z - 2*d1**2*x1**2 + 2*d1**2*x1*x2 + d1**2*z**2 - 2*d1*d2**2*z + 2*d1*d2*x1**2 - 2*d1*d2*x1*x2 - 2*d1*d2*z**2 + 2*d1*x1**2*z - 2*d1*x1*x2*z + d2**2*z**2 - 2*d2*x1**2*z + 2*d2*x1*x2*z + x1**4 - 2*x1**3*x2 + x1**2*x2**2), z) + d1*Integral(z**2*Heaviside(d1 + d2 - z, 0)/(d1**4 - 2*d1**3*d2 - 2*d1**3*z + d1**2*d2**2 + 4*d1**2*d2*z - 2*d1**2*x1**2 + 2*d1**2*x1*x2 + d1**2*z**2 - 2*d1*d2**2*z + 2*d1*d2*x1**2 - 2*d1*d2*x1*x2 - 2*d1*d2*z**2 + 2*d1*x1**2*z - 2*d1*x1*x2*z + d2**2*z**2 - 2*d2*x1**2*z + 2*d2*x1*x2*z + x1**4 - 2*x1**3*x2 + x1**2*x2**2), z) + d2**3*Integral(Heaviside(d1 + d2 - z, 0)/(d1**4 - 2*d1**3*d2 - 2*d1**3*z + d1**2*d2**2 + 4*d1**2*d2*z - 2*d1**2*x1**2 + 2*d1**2*x1*x2 + d1**2*z**2 - 2*d1*d2**2*z + 2*d1*d2*x1**2 - 2*d1*d2*x1*x2 - 2*d1*d2*z**2 + 2*d1*x1**2*z - 2*d1*x1*x2*z + d2**2*z**2 - 2*d2*x1**2*z + 2*d2*x1*x2*z + x1**4 - 2*x1**3*x2 + x1**2*x2**2), z) - 2*d2*x1**2*Integral(Heaviside(d1 + d2 - z, 0)/(d1**4 - 2*d1**3*d2 - 2*d1**3*z + d1**2*d2**2 + 4*d1**2*d2*z - 2*d1**2*x1**2 + 2*d1**2*x1*x2 + d1**2*z**2 - 2*d1*d2**2*z + 2*d1*d2*x1**2 - 2*d1*d2*x1*x2 - 2*d1*d2*z**2 + 2*d1*x1**2*z - 2*d1*x1*x2*z + d2**2*z**2 - 2*d2*x1**2*z + 2*d2*x1*x2*z + x1**4 - 2*x1**3*x2 + x1**2*x2**2), z) + 2*d2*x1*x2*Integral(Heaviside(d1 + d2 - z, 0)/(d1**4 - 2*d1**3*d2 - 2*d1**3*z + d1**2*d2**2 + 4*d1**2*d2*z - 2*d1**2*x1**2 + 2*d1**2*x1*x2 + d1**2*z**2 - 2*d1*d2**2*z + 2*d1*d2*x1**2 - 2*d1*d2*x1*x2 - 2*d1*d2*z**2 + 2*d1*x1**2*z - 2*d1*x1*x2*z + d2**2*z**2 - 2*d2*x1**2*z + 2*d2*x1*x2*z + x1**4 - 2*x1**3*x2 + x1**2*x2**2), z) - d2*Integral(z**2*Heaviside(d1 + d2 - z, 0)/(d1**4 - 2*d1**3*d2 - 2*d1**3*z + d1**2*d2**2 + 4*d1**2*d2*z - 2*d1**2*x1**2 + 2*d1**2*x1*x2 + d1**2*z**2 - 2*d1*d2**2*z + 2*d1*d2*x1**2 - 2*d1*d2*x1*x2 - 2*d1*d2*z**2 + 2*d1*x1**2*z - 2*d1*x1*x2*z + d2**2*z**2 - 2*d2*x1**2*z + 2*d2*x1*x2*z + x1**4 - 2*x1**3*x2 + x1**2*x2**2), z) + 2*x1**2*Integral(z*Heaviside(d1 + d2 - z, 0)/(d1**4 - 2*d1**3*d2 - 2*d1**3*z + d1**2*d2**2 + 4*d1**2*d2*z - 2*d1**2*x1**2 + 2*d1**2*x1*x2 + d1**2*z**2 - 2*d1*d2**2*z + 2*d1*d2*x1**2 - 2*d1*d2*x1*x2 - 2*d1*d2*z**2 + 2*d1*x1**2*z - 2*d1*x1*x2*z + d2**2*z**2 - 2*d2*x1**2*z + 2*d2*x1*x2*z + x1**4 - 2*x1**3*x2 + x1**2*x2**2), z) - 2*x1*x2*Integral(z*Heaviside(d1 + d2 - z, 0)/(d1**4 - 2*d1**3*d2 - 2*d1**3*z + d1**2*d2**2 + 4*d1**2*d2*z - 2*d1**2*x1**2 + 2*d1**2*x1*x2 + d1**2*z**2 - 2*d1*d2**2*z + 2*d1*d2*x1**2 - 2*d1*d2*x1*x2 - 2*d1*d2*z**2 + 2*d1*x1**2*z - 2*d1*x1*x2*z + d2**2*z**2 - 2*d2*x1**2*z + 2*d2*x1*x2*z + x1**4 - 2*x1**3*x2 + x1**2*x2**2), z)), 2*l*(d1*d2 - d2**2 + x1**2 - x1*x2)/(x1 - x2) > 0), (Ps*Integral(Heaviside((d1*(d1 - d2) - x1*(x1 - x2) - z*(d1 - d2))/(d1 - d2), 0), z), True))"
      ]
     },
     "execution_count": 17,
     "metadata": {},
     "output_type": "execute_result"
    }
   ],
   "source": [
    "f = Piecewise((Ps*(d1 - d2)*(Integral(d1**3*Heaviside(d1 + d2 - z, 0)/(d1**4 - 2*d1**3*d2 - 2*d1**3*z + d1**2*d2**2 + 4*d1**2*d2*z - 2*d1**2*x1**2 + 2*d1**2*x1*x2 + d1**2*z**2 - 2*d1*d2**2*z + 2*d1*d2*x1**2 - 2*d1*d2*x1*x2 - 2*d1*d2*z**2 + 2*d1*x1**2*z - 2*d1*x1*x2*z + d2**2*z**2 - 2*d2*x1**2*z + 2*d2*x1*x2*z + x1**4 - 2*x1**3*x2 + x1**2*x2**2), z) + Integral(d2**3*Heaviside(d1 + d2 - z, 0)/(d1**4 - 2*d1**3*d2 - 2*d1**3*z + d1**2*d2**2 + 4*d1**2*d2*z - 2*d1**2*x1**2 + 2*d1**2*x1*x2 + d1**2*z**2 - 2*d1*d2**2*z + 2*d1*d2*x1**2 - 2*d1*d2*x1*x2 - 2*d1*d2*z**2 + 2*d1*x1**2*z - 2*d1*x1*x2*z + d2**2*z**2 - 2*d2*x1**2*z + 2*d2*x1*x2*z + x1**4 - 2*x1**3*x2 + x1**2*x2**2), z) + Integral(-d1*d2**2*Heaviside(d1 + d2 - z, 0)/(d1**4 - 2*d1**3*d2 - 2*d1**3*z + d1**2*d2**2 + 4*d1**2*d2*z - 2*d1**2*x1**2 + 2*d1**2*x1*x2 + d1**2*z**2 - 2*d1*d2**2*z + 2*d1*d2*x1**2 - 2*d1*d2*x1*x2 - 2*d1*d2*z**2 + 2*d1*x1**2*z - 2*d1*x1*x2*z + d2**2*z**2 - 2*d2*x1**2*z + 2*d2*x1*x2*z + x1**4 - 2*x1**3*x2 + x1**2*x2**2), z) + Integral(-2*d1*x1**2*Heaviside(d1 + d2 - z, 0)/(d1**4 - 2*d1**3*d2 - 2*d1**3*z + d1**2*d2**2 + 4*d1**2*d2*z - 2*d1**2*x1**2 + 2*d1**2*x1*x2 + d1**2*z**2 - 2*d1*d2**2*z + 2*d1*d2*x1**2 - 2*d1*d2*x1*x2 - 2*d1*d2*z**2 + 2*d1*x1**2*z - 2*d1*x1*x2*z + d2**2*z**2 - 2*d2*x1**2*z + 2*d2*x1*x2*z + x1**4 - 2*x1**3*x2 + x1**2*x2**2), z) + Integral(d1*z**2*Heaviside(d1 + d2 - z, 0)/(d1**4 - 2*d1**3*d2 - 2*d1**3*z + d1**2*d2**2 + 4*d1**2*d2*z - 2*d1**2*x1**2 + 2*d1**2*x1*x2 + d1**2*z**2 - 2*d1*d2**2*z + 2*d1*d2*x1**2 - 2*d1*d2*x1*x2 - 2*d1*d2*z**2 + 2*d1*x1**2*z - 2*d1*x1*x2*z + d2**2*z**2 - 2*d2*x1**2*z + 2*d2*x1*x2*z + x1**4 - 2*x1**3*x2 + x1**2*x2**2), z) + Integral(-d1**2*d2*Heaviside(d1 + d2 - z, 0)/(d1**4 - 2*d1**3*d2 - 2*d1**3*z + d1**2*d2**2 + 4*d1**2*d2*z - 2*d1**2*x1**2 + 2*d1**2*x1*x2 + d1**2*z**2 - 2*d1*d2**2*z + 2*d1*d2*x1**2 - 2*d1*d2*x1*x2 - 2*d1*d2*z**2 + 2*d1*x1**2*z - 2*d1*x1*x2*z + d2**2*z**2 - 2*d2*x1**2*z + 2*d2*x1*x2*z + x1**4 - 2*x1**3*x2 + x1**2*x2**2), z) + Integral(-2*d1**2*z*Heaviside(d1 + d2 - z, 0)/(d1**4 - 2*d1**3*d2 - 2*d1**3*z + d1**2*d2**2 + 4*d1**2*d2*z - 2*d1**2*x1**2 + 2*d1**2*x1*x2 + d1**2*z**2 - 2*d1*d2**2*z + 2*d1*d2*x1**2 - 2*d1*d2*x1*x2 - 2*d1*d2*z**2 + 2*d1*x1**2*z - 2*d1*x1*x2*z + d2**2*z**2 - 2*d2*x1**2*z + 2*d2*x1*x2*z + x1**4 - 2*x1**3*x2 + x1**2*x2**2), z) + Integral(-2*d2*x1**2*Heaviside(d1 + d2 - z, 0)/(d1**4 - 2*d1**3*d2 - 2*d1**3*z + d1**2*d2**2 + 4*d1**2*d2*z - 2*d1**2*x1**2 + 2*d1**2*x1*x2 + d1**2*z**2 - 2*d1*d2**2*z + 2*d1*d2*x1**2 - 2*d1*d2*x1*x2 - 2*d1*d2*z**2 + 2*d1*x1**2*z - 2*d1*x1*x2*z + d2**2*z**2 - 2*d2*x1**2*z + 2*d2*x1*x2*z + x1**4 - 2*x1**3*x2 + x1**2*x2**2), z) + Integral(-d2*z**2*Heaviside(d1 + d2 - z, 0)/(d1**4 - 2*d1**3*d2 - 2*d1**3*z + d1**2*d2**2 + 4*d1**2*d2*z - 2*d1**2*x1**2 + 2*d1**2*x1*x2 + d1**2*z**2 - 2*d1*d2**2*z + 2*d1*d2*x1**2 - 2*d1*d2*x1*x2 - 2*d1*d2*z**2 + 2*d1*x1**2*z - 2*d1*x1*x2*z + d2**2*z**2 - 2*d2*x1**2*z + 2*d2*x1*x2*z + x1**4 - 2*x1**3*x2 + x1**2*x2**2), z) + Integral(2*x1**2*z*Heaviside(d1 + d2 - z, 0)/(d1**4 - 2*d1**3*d2 - 2*d1**3*z + d1**2*d2**2 + 4*d1**2*d2*z - 2*d1**2*x1**2 + 2*d1**2*x1*x2 + d1**2*z**2 - 2*d1*d2**2*z + 2*d1*d2*x1**2 - 2*d1*d2*x1*x2 - 2*d1*d2*z**2 + 2*d1*x1**2*z - 2*d1*x1*x2*z + d2**2*z**2 - 2*d2*x1**2*z + 2*d2*x1*x2*z + x1**4 - 2*x1**3*x2 + x1**2*x2**2), z) + Integral(2*d1*d2*z*Heaviside(d1 + d2 - z, 0)/(d1**4 - 2*d1**3*d2 - 2*d1**3*z + d1**2*d2**2 + 4*d1**2*d2*z - 2*d1**2*x1**2 + 2*d1**2*x1*x2 + d1**2*z**2 - 2*d1*d2**2*z + 2*d1*d2*x1**2 - 2*d1*d2*x1*x2 - 2*d1*d2*z**2 + 2*d1*x1**2*z - 2*d1*x1*x2*z + d2**2*z**2 - 2*d2*x1**2*z + 2*d2*x1*x2*z + x1**4 - 2*x1**3*x2 + x1**2*x2**2), z) + Integral(2*d1*x1*x2*Heaviside(d1 + d2 - z, 0)/(d1**4 - 2*d1**3*d2 - 2*d1**3*z + d1**2*d2**2 + 4*d1**2*d2*z - 2*d1**2*x1**2 + 2*d1**2*x1*x2 + d1**2*z**2 - 2*d1*d2**2*z + 2*d1*d2*x1**2 - 2*d1*d2*x1*x2 - 2*d1*d2*z**2 + 2*d1*x1**2*z - 2*d1*x1*x2*z + d2**2*z**2 - 2*d2*x1**2*z + 2*d2*x1*x2*z + x1**4 - 2*x1**3*x2 + x1**2*x2**2), z) + Integral(2*d2*x1*x2*Heaviside(d1 + d2 - z, 0)/(d1**4 - 2*d1**3*d2 - 2*d1**3*z + d1**2*d2**2 + 4*d1**2*d2*z - 2*d1**2*x1**2 + 2*d1**2*x1*x2 + d1**2*z**2 - 2*d1*d2**2*z + 2*d1*d2*x1**2 - 2*d1*d2*x1*x2 - 2*d1*d2*z**2 + 2*d1*x1**2*z - 2*d1*x1*x2*z + d2**2*z**2 - 2*d2*x1**2*z + 2*d2*x1*x2*z + x1**4 - 2*x1**3*x2 + x1**2*x2**2), z) + Integral(-2*x1*x2*z*Heaviside(d1 + d2 - z, 0)/(d1**4 - 2*d1**3*d2 - 2*d1**3*z + d1**2*d2**2 + 4*d1**2*d2*z - 2*d1**2*x1**2 + 2*d1**2*x1*x2 + d1**2*z**2 - 2*d1*d2**2*z + 2*d1*d2*x1**2 - 2*d1*d2*x1*x2 - 2*d1*d2*z**2 + 2*d1*x1**2*z - 2*d1*x1*x2*z + d2**2*z**2 - 2*d2*x1**2*z + 2*d2*x1*x2*z + x1**4 - 2*x1**3*x2 + x1**2*x2**2), z)), 2*l*(-d1*(-d1 + d2)/(-x1 + x2) + x1 + (-d1 + d2)*(d1 + d2)/(-x1 + x2)) > 0), (Ps*Integral(Heaviside(d1**2*x1/(d1*x1 - d1*x2 - d2*x1 + d2*x2) - d1**2*x2/(d1*x1 - d1*x2 - d2*x1 + d2*x2) - d1*d2*x1/(d1*x1 - d1*x2 - d2*x1 + d2*x2) + d1*d2*x2/(d1*x1 - d1*x2 - d2*x1 + d2*x2) + x1**2/(-d1 + d2) - x1*x2/(-d1 + d2) - z, 0), z), True))\n",
    "simplify(f)"
   ]
  },
  {
   "cell_type": "code",
   "execution_count": 2,
   "metadata": {},
   "outputs": [
    {
     "name": "stdout",
     "output_type": "stream",
     "text": [
      "Piecewise((Piecewise((Ps*z + (Ps*d1**2*d2**2 - 2*Ps*d1*d2**3 + 2*Ps*d1*d2*x1**2 - 2*Ps*d1*d2*x1*x2 + Ps*d2**4 - 2*Ps*d2**2*x1**2 + 2*Ps*d2**2*x1*x2 + Ps*x1**4 - 2*Ps*x1**3*x2 + Ps*x1**2*x2**2)/(-d1**3 + 2*d1**2*d2 - d1*d2**2 + d1*x1**2 - d1*x1*x2 - d2*x1**2 + d2*x1*x2 + z*(d1**2 - 2*d1*d2 + d2**2)), z < d1 + d2), (Ps*(d1 + d2) + (Ps*d1**2*d2**2 - 2*Ps*d1*d2**3 + 2*Ps*d1*d2*x1**2 - 2*Ps*d1*d2*x1*x2 + Ps*d2**4 - 2*Ps*d2**2*x1**2 + 2*Ps*d2**2*x1*x2 + Ps*x1**4 - 2*Ps*x1**3*x2 + Ps*x1**2*x2**2)/(-d1**3 + 2*d1**2*d2 - d1*d2**2 + d1*x1**2 - d1*x1*x2 - d2*x1**2 + d2*x1*x2 + (d1 + d2)*(d1**2 - 2*d1*d2 + d2**2)), True)), 2*l*(-d1*(-d1 + d2)/(-x1 + x2) + x1 + (-d1 + d2)*(d1 + d2)/(-x1 + x2)) > 0), (Piecewise((Ps*z, z <= -(-d1**2 + d1*d2 + x1**2 - x1*x2)/(d1 - d2)), (-Ps*(-d1**2 + d1*d2 + x1**2 - x1*x2)/(d1 - d2), True)), True))\n"
     ]
    }
   ],
   "source": [
    "#Zaccarelli, Elemans, et al 2006 \n",
    "#https://findresearcher.sdu.dk/ws/portalfiles/portal/50551636/2006_Zaccarelli_etal_ActaAcustica.pdf\n",
    "#Modelling Bird Songs: Voice Onset, Overtones and Registers\n",
    "\n",
    "#To do this paper:\n",
    "# https://www.ncbi.nlm.nih.gov/pmc/articles/PMC2607454/\n",
    "\n",
    "\n",
    "from sympy import *;\n",
    "\n",
    "z = Symbol('z', real=True)\n",
    "d1 = Symbol('d1', real=True)\n",
    "d2 = Symbol('d2', real=True)\n",
    "x1 = Symbol('x1', real=True)\n",
    "x2 = Symbol('x2', real=True)\n",
    "l = Symbol('l', real=True)\n",
    "#zM = Symbol('zM', real=True)\n",
    "Ps = Symbol('Ps', real=True)\n",
    "\n",
    "\n",
    "#a(z) definition, hopefully x(z) is correct\n",
    "x = ( (d2-d1)/(x2-x1) )*z  + (x1-(d1*((d2-d1)/(x2-x1))))\n",
    "a = 2*l*x\n",
    "\n",
    "#a1 -- area under 1st mass\n",
    "x_a1 = ( (d2-d1)/(x2-x1) )*d1  + (x1-(d1*((d2-d1)/(x2-x1))))\n",
    "a1 = 2*l*x_a1\n",
    "\n",
    "#a2 -- area under 2nd mass\n",
    "x_a2 = ( (d2-d1)/(x2-x1) )*(d1+d2)  + (x1-(d1*((d2-d1)/(x2-x1))))\n",
    "a2 = 2*l*x_a2\n",
    "\n",
    "#piecewise to find aMin\n",
    "aMin = Piecewise(  \n",
    "    (a1, a1 < a1),\n",
    "    (a2, True)\n",
    ")\n",
    "\n",
    "#the z (eg, d value) value of the minimal area\n",
    "zM = Piecewise(  \n",
    "    (d1, a1 < a1),\n",
    "    (d1+d2, True)\n",
    ")\n",
    "\n",
    "#the minimum z for a collision, eg, a<=0 -- using a line equation, so solved for one point @ 0\n",
    "#might have to fix, what if all negative? -- can sub this for a constant, then fill in a function for it, since z isn't in it\n",
    "min0 = -(x1-(d1*((d2-d1)/(x2-x1))))/( (d2-d1)/(x2-x1) )\n",
    "\n",
    "#Heaviside 1\n",
    "H1 = Piecewise(  \n",
    "    (1, zM-z > 0),\n",
    "    (0, True)\n",
    ")\n",
    "\n",
    "#Heaviside 2\n",
    "H2 = Piecewise(  \n",
    "    (1, min0-z > 0),\n",
    "    (0, True)\n",
    ")\n",
    "\n",
    "Pz = Piecewise(  \n",
    "    (Ps*( ( 1 - (aMin/a)**2 )*H1  ), aMin > 0),\n",
    "    (Ps*H2, True)\n",
    ")\n",
    "\n",
    "zIntegrate = integrate(Pz, z)\n",
    "print(zIntegrate)"
   ]
  },
  {
   "cell_type": "code",
   "execution_count": 3,
   "metadata": {},
   "outputs": [
    {
     "data": {
      "text/latex": [
       "$\\displaystyle \\begin{cases} \\begin{cases} \\frac{Ps \\left(- d_{1}^{2} d_{2}^{2} + 2 d_{1} d_{2}^{3} - 2 d_{1} d_{2} x_{1}^{2} + 2 d_{1} d_{2} x_{1} x_{2} - d_{2}^{4} + 2 d_{2}^{2} x_{1}^{2} - 2 d_{2}^{2} x_{1} x_{2} - x_{1}^{4} + 2 x_{1}^{3} x_{2} - x_{1}^{2} x_{2}^{2} + z \\left(d_{1}^{3} - 2 d_{1}^{2} d_{2} + d_{1} d_{2}^{2} - d_{1} x_{1}^{2} + d_{1} x_{1} x_{2} + d_{2} x_{1}^{2} - d_{2} x_{1} x_{2} - z \\left(d_{1}^{2} - 2 d_{1} d_{2} + d_{2}^{2}\\right)\\right)\\right)}{d_{1}^{3} - 2 d_{1}^{2} d_{2} + d_{1} d_{2}^{2} - d_{1} x_{1}^{2} + d_{1} x_{1} x_{2} + d_{2} x_{1}^{2} - d_{2} x_{1} x_{2} - z \\left(d_{1}^{2} - 2 d_{1} d_{2} + d_{2}^{2}\\right)} & \\text{for}\\: d_{1} > - d_{2} + z \\\\\\frac{Ps \\left(d_{1}^{2} + d_{1} d_{2} - 2 d_{2}^{2} + x_{1}^{2} - x_{1} x_{2}\\right)}{d_{1} - d_{2}} & \\text{otherwise} \\end{cases} & \\text{for}\\: \\frac{2 l \\left(d_{1} d_{2} - d_{2}^{2} + x_{1}^{2} - x_{1} x_{2}\\right)}{x_{1} - x_{2}} > 0 \\\\\\begin{cases} Ps z & \\text{for}\\: z \\leq \\frac{d_{1}^{2} - d_{1} d_{2} - x_{1}^{2} + x_{1} x_{2}}{d_{1} - d_{2}} \\\\\\frac{Ps \\left(d_{1}^{2} - d_{1} d_{2} - x_{1}^{2} + x_{1} x_{2}\\right)}{d_{1} - d_{2}} & \\text{otherwise} \\end{cases} & \\text{otherwise} \\end{cases}$"
      ],
      "text/plain": [
       "Piecewise((Piecewise((Ps*(-d1**2*d2**2 + 2*d1*d2**3 - 2*d1*d2*x1**2 + 2*d1*d2*x1*x2 - d2**4 + 2*d2**2*x1**2 - 2*d2**2*x1*x2 - x1**4 + 2*x1**3*x2 - x1**2*x2**2 + z*(d1**3 - 2*d1**2*d2 + d1*d2**2 - d1*x1**2 + d1*x1*x2 + d2*x1**2 - d2*x1*x2 - z*(d1**2 - 2*d1*d2 + d2**2)))/(d1**3 - 2*d1**2*d2 + d1*d2**2 - d1*x1**2 + d1*x1*x2 + d2*x1**2 - d2*x1*x2 - z*(d1**2 - 2*d1*d2 + d2**2)), d1 > -d2 + z), (Ps*(d1**2 + d1*d2 - 2*d2**2 + x1**2 - x1*x2)/(d1 - d2), True)), 2*l*(d1*d2 - d2**2 + x1**2 - x1*x2)/(x1 - x2) > 0), (Piecewise((Ps*z, z <= (d1**2 - d1*d2 - x1**2 + x1*x2)/(d1 - d2)), (Ps*(d1**2 - d1*d2 - x1**2 + x1*x2)/(d1 - d2), True)), True))"
      ]
     },
     "execution_count": 3,
     "metadata": {},
     "output_type": "execute_result"
    }
   ],
   "source": [
    "f = Piecewise((Piecewise((Ps*z + (Ps*d1**2*d2**2 - 2*Ps*d1*d2**3 + 2*Ps*d1*d2*x1**2 - 2*Ps*d1*d2*x1*x2 + Ps*d2**4 - 2*Ps*d2**2*x1**2 + 2*Ps*d2**2*x1*x2 + Ps*x1**4 - 2*Ps*x1**3*x2 + Ps*x1**2*x2**2)/(-d1**3 + 2*d1**2*d2 - d1*d2**2 + d1*x1**2 - d1*x1*x2 - d2*x1**2 + d2*x1*x2 + z*(d1**2 - 2*d1*d2 + d2**2)), z < d1 + d2), (Ps*(d1 + d2) + (Ps*d1**2*d2**2 - 2*Ps*d1*d2**3 + 2*Ps*d1*d2*x1**2 - 2*Ps*d1*d2*x1*x2 + Ps*d2**4 - 2*Ps*d2**2*x1**2 + 2*Ps*d2**2*x1*x2 + Ps*x1**4 - 2*Ps*x1**3*x2 + Ps*x1**2*x2**2)/(-d1**3 + 2*d1**2*d2 - d1*d2**2 + d1*x1**2 - d1*x1*x2 - d2*x1**2 + d2*x1*x2 + (d1 + d2)*(d1**2 - 2*d1*d2 + d2**2)), True)), 2*l*(-d1*(-d1 + d2)/(-x1 + x2) + x1 + (-d1 + d2)*(d1 + d2)/(-x1 + x2)) > 0), (Piecewise((Ps*z, z <= -(-d1**2 + d1*d2 + x1**2 - x1*x2)/(d1 - d2)), (-Ps*(-d1**2 + d1*d2 + x1**2 - x1*x2)/(d1 - d2), True)), True))\n",
    "simplify(f)"
   ]
  },
  {
   "cell_type": "code",
   "execution_count": 3,
   "metadata": {},
   "outputs": [
    {
     "name": "stdout",
     "output_type": "stream",
     "text": [
      "Piecewise((Piecewise((Ps*z + (Ps*aMin**2*x1**2 - 2*Ps*aMin**2*x1*x2 + Ps*aMin**2*x2**2)/(-4*d1**3*l**2 + 8*d1**2*d2*l**2 - 4*d1*d2**2*l**2 + 4*d1*l**2*x1**2 - 4*d1*l**2*x1*x2 - 4*d2*l**2*x1**2 + 4*d2*l**2*x1*x2 + z*(4*d1**2*l**2 - 8*d1*d2*l**2 + 4*d2**2*l**2)), aM > z), (Ps*aM + (Ps*aMin**2*x1**2 - 2*Ps*aMin**2*x1*x2 + Ps*aMin**2*x2**2)/(aM*(4*d1**2*l**2 - 8*d1*d2*l**2 + 4*d2**2*l**2) - 4*d1**3*l**2 + 8*d1**2*d2*l**2 - 4*d1*d2**2*l**2 + 4*d1*l**2*x1**2 - 4*d1*l**2*x1*x2 - 4*d2*l**2*x1**2 + 4*d2*l**2*x1*x2), True)), aMin > 0), (Piecewise((Ps*z, min0 > z), (Ps*min0, True)), True))\n"
     ]
    }
   ],
   "source": [
    "#Zaccarelli, Elemans, et al 2006 \n",
    "#https://findresearcher.sdu.dk/ws/portalfiles/portal/50551636/2006_Zaccarelli_etal_ActaAcustica.pdf\n",
    "#Modelling Bird Songs: Voice Onset, Overtones and Registers\n",
    "\n",
    "#To do this paper:\n",
    "# https://www.ncbi.nlm.nih.gov/pmc/articles/PMC2607454/\n",
    "\n",
    "\n",
    "from sympy import *;\n",
    "\n",
    "z = Symbol('z', real=True)\n",
    "d1 = Symbol('d1', real=True)\n",
    "d2 = Symbol('d2', real=True)\n",
    "x1 = Symbol('x1', real=True)\n",
    "x2 = Symbol('x2', real=True)\n",
    "l = Symbol('l', real=True)\n",
    "#zM = Symbol('zM', real=True)\n",
    "Ps = Symbol('Ps', real=True)\n",
    "min0 = Symbol('min0', real=True)\n",
    "aMin = Symbol('aMin', real=True)\n",
    "zM = Symbol('zM', real=True)\n",
    "\n",
    "\n",
    "\n",
    "#a(z) definition, hopefully x(z) is correct\n",
    "x = ( (d2-d1)/(x2-x1) )*z  + (x1-(d1*((d2-d1)/(x2-x1))))\n",
    "a = 2*l*x\n",
    "\n",
    "#a1 -- area under 1st mass\n",
    "x_a1 = ( (d2-d1)/(x2-x1) )*d1  + (x1-(d1*((d2-d1)/(x2-x1))))\n",
    "a1 = 2*l*x_a1\n",
    "\n",
    "#a2 -- area under 2nd mass\n",
    "x_a2 = ( (d2-d1)/(x2-x1) )*(d1+d2)  + (x1-(d1*((d2-d1)/(x2-x1))))\n",
    "a2 = 2*l*x_a2\n",
    "\n",
    "#piecewise to find aMin\n",
    "#aMin = Piecewise(  \n",
    "#    (a1, a1 < a1),\n",
    "#    (a2, True)\n",
    "#)\n",
    "\n",
    "#the z (eg, d value) value of the minimal area\n",
    "# zM = Piecewise(  \n",
    "#    (d1, a1 < a1),\n",
    "#    (d1+d2, True)\n",
    "# )\n",
    "\n",
    "# the minimum z for a collision, eg, a<=0 -- using a line equation, so solved for one point @ 0\n",
    "# might have to fix, what if all negative? -- can sub this for a constant, then fill in a function for it, since z isn't in it\n",
    "# trying as symbol\n",
    "# min0 = -(x1-(d1*((d2-d1)/(x2-x1))))/( (d2-d1)/(x2-x1) )\n",
    "\n",
    "#Heaviside 1\n",
    "H1 = Piecewise(  \n",
    "    (1, zM-z > 0),\n",
    "    (0, True)\n",
    ")\n",
    "\n",
    "#Heaviside 2\n",
    "H2 = Piecewise(  \n",
    "    (1, min0-z > 0),\n",
    "    (0, True)\n",
    ")\n",
    "\n",
    "Pz = Piecewise(  \n",
    "    (Ps*( ( 1 - (aMin/a)**2 )*H1  ), aMin > 0),\n",
    "    (Ps*H2, True)\n",
    ")\n",
    "\n",
    "zIntegrate = integrate(Pz, z)\n",
    "print(zIntegrate)"
   ]
  },
  {
   "cell_type": "code",
   "execution_count": 6,
   "metadata": {},
   "outputs": [
    {
     "ename": "NameError",
     "evalue": "name 'aM' is not defined",
     "output_type": "error",
     "traceback": [
      "\u001b[0;31m---------------------------------------------------------------------------\u001b[0m",
      "\u001b[0;31mNameError\u001b[0m                                 Traceback (most recent call last)",
      "\u001b[0;32m<ipython-input-6-60e6c7b6cb57>\u001b[0m in \u001b[0;36m<module>\u001b[0;34m\u001b[0m\n\u001b[0;32m----> 1\u001b[0;31m \u001b[0mf\u001b[0m \u001b[0;34m=\u001b[0m \u001b[0mPiecewise\u001b[0m\u001b[0;34m(\u001b[0m\u001b[0;34m(\u001b[0m\u001b[0mPiecewise\u001b[0m\u001b[0;34m(\u001b[0m\u001b[0;34m(\u001b[0m\u001b[0mPs\u001b[0m\u001b[0;34m*\u001b[0m\u001b[0mz\u001b[0m \u001b[0;34m+\u001b[0m \u001b[0;34m(\u001b[0m\u001b[0mPs\u001b[0m\u001b[0;34m*\u001b[0m\u001b[0maMin\u001b[0m\u001b[0;34m**\u001b[0m\u001b[0;36m2\u001b[0m\u001b[0;34m*\u001b[0m\u001b[0mx1\u001b[0m\u001b[0;34m**\u001b[0m\u001b[0;36m2\u001b[0m \u001b[0;34m-\u001b[0m \u001b[0;36m2\u001b[0m\u001b[0;34m*\u001b[0m\u001b[0mPs\u001b[0m\u001b[0;34m*\u001b[0m\u001b[0maMin\u001b[0m\u001b[0;34m**\u001b[0m\u001b[0;36m2\u001b[0m\u001b[0;34m*\u001b[0m\u001b[0mx1\u001b[0m\u001b[0;34m*\u001b[0m\u001b[0mx2\u001b[0m \u001b[0;34m+\u001b[0m \u001b[0mPs\u001b[0m\u001b[0;34m*\u001b[0m\u001b[0maMin\u001b[0m\u001b[0;34m**\u001b[0m\u001b[0;36m2\u001b[0m\u001b[0;34m*\u001b[0m\u001b[0mx2\u001b[0m\u001b[0;34m**\u001b[0m\u001b[0;36m2\u001b[0m\u001b[0;34m)\u001b[0m\u001b[0;34m/\u001b[0m\u001b[0;34m(\u001b[0m\u001b[0;34m-\u001b[0m\u001b[0;36m4\u001b[0m\u001b[0;34m*\u001b[0m\u001b[0md1\u001b[0m\u001b[0;34m**\u001b[0m\u001b[0;36m3\u001b[0m\u001b[0;34m*\u001b[0m\u001b[0ml\u001b[0m\u001b[0;34m**\u001b[0m\u001b[0;36m2\u001b[0m \u001b[0;34m+\u001b[0m \u001b[0;36m8\u001b[0m\u001b[0;34m*\u001b[0m\u001b[0md1\u001b[0m\u001b[0;34m**\u001b[0m\u001b[0;36m2\u001b[0m\u001b[0;34m*\u001b[0m\u001b[0md2\u001b[0m\u001b[0;34m*\u001b[0m\u001b[0ml\u001b[0m\u001b[0;34m**\u001b[0m\u001b[0;36m2\u001b[0m \u001b[0;34m-\u001b[0m \u001b[0;36m4\u001b[0m\u001b[0;34m*\u001b[0m\u001b[0md1\u001b[0m\u001b[0;34m*\u001b[0m\u001b[0md2\u001b[0m\u001b[0;34m**\u001b[0m\u001b[0;36m2\u001b[0m\u001b[0;34m*\u001b[0m\u001b[0ml\u001b[0m\u001b[0;34m**\u001b[0m\u001b[0;36m2\u001b[0m \u001b[0;34m+\u001b[0m \u001b[0;36m4\u001b[0m\u001b[0;34m*\u001b[0m\u001b[0md1\u001b[0m\u001b[0;34m*\u001b[0m\u001b[0ml\u001b[0m\u001b[0;34m**\u001b[0m\u001b[0;36m2\u001b[0m\u001b[0;34m*\u001b[0m\u001b[0mx1\u001b[0m\u001b[0;34m**\u001b[0m\u001b[0;36m2\u001b[0m \u001b[0;34m-\u001b[0m \u001b[0;36m4\u001b[0m\u001b[0;34m*\u001b[0m\u001b[0md1\u001b[0m\u001b[0;34m*\u001b[0m\u001b[0ml\u001b[0m\u001b[0;34m**\u001b[0m\u001b[0;36m2\u001b[0m\u001b[0;34m*\u001b[0m\u001b[0mx1\u001b[0m\u001b[0;34m*\u001b[0m\u001b[0mx2\u001b[0m \u001b[0;34m-\u001b[0m \u001b[0;36m4\u001b[0m\u001b[0;34m*\u001b[0m\u001b[0md2\u001b[0m\u001b[0;34m*\u001b[0m\u001b[0ml\u001b[0m\u001b[0;34m**\u001b[0m\u001b[0;36m2\u001b[0m\u001b[0;34m*\u001b[0m\u001b[0mx1\u001b[0m\u001b[0;34m**\u001b[0m\u001b[0;36m2\u001b[0m \u001b[0;34m+\u001b[0m \u001b[0;36m4\u001b[0m\u001b[0;34m*\u001b[0m\u001b[0md2\u001b[0m\u001b[0;34m*\u001b[0m\u001b[0ml\u001b[0m\u001b[0;34m**\u001b[0m\u001b[0;36m2\u001b[0m\u001b[0;34m*\u001b[0m\u001b[0mx1\u001b[0m\u001b[0;34m*\u001b[0m\u001b[0mx2\u001b[0m \u001b[0;34m+\u001b[0m \u001b[0mz\u001b[0m\u001b[0;34m*\u001b[0m\u001b[0;34m(\u001b[0m\u001b[0;36m4\u001b[0m\u001b[0;34m*\u001b[0m\u001b[0md1\u001b[0m\u001b[0;34m**\u001b[0m\u001b[0;36m2\u001b[0m\u001b[0;34m*\u001b[0m\u001b[0ml\u001b[0m\u001b[0;34m**\u001b[0m\u001b[0;36m2\u001b[0m \u001b[0;34m-\u001b[0m \u001b[0;36m8\u001b[0m\u001b[0;34m*\u001b[0m\u001b[0md1\u001b[0m\u001b[0;34m*\u001b[0m\u001b[0md2\u001b[0m\u001b[0;34m*\u001b[0m\u001b[0ml\u001b[0m\u001b[0;34m**\u001b[0m\u001b[0;36m2\u001b[0m \u001b[0;34m+\u001b[0m \u001b[0;36m4\u001b[0m\u001b[0;34m*\u001b[0m\u001b[0md2\u001b[0m\u001b[0;34m**\u001b[0m\u001b[0;36m2\u001b[0m\u001b[0;34m*\u001b[0m\u001b[0ml\u001b[0m\u001b[0;34m**\u001b[0m\u001b[0;36m2\u001b[0m\u001b[0;34m)\u001b[0m\u001b[0;34m)\u001b[0m\u001b[0;34m,\u001b[0m \u001b[0maM\u001b[0m \u001b[0;34m>\u001b[0m \u001b[0mz\u001b[0m\u001b[0;34m)\u001b[0m\u001b[0;34m,\u001b[0m \u001b[0;34m(\u001b[0m\u001b[0mPs\u001b[0m\u001b[0;34m*\u001b[0m\u001b[0maM\u001b[0m \u001b[0;34m+\u001b[0m \u001b[0;34m(\u001b[0m\u001b[0mPs\u001b[0m\u001b[0;34m*\u001b[0m\u001b[0maMin\u001b[0m\u001b[0;34m**\u001b[0m\u001b[0;36m2\u001b[0m\u001b[0;34m*\u001b[0m\u001b[0mx1\u001b[0m\u001b[0;34m**\u001b[0m\u001b[0;36m2\u001b[0m \u001b[0;34m-\u001b[0m \u001b[0;36m2\u001b[0m\u001b[0;34m*\u001b[0m\u001b[0mPs\u001b[0m\u001b[0;34m*\u001b[0m\u001b[0maMin\u001b[0m\u001b[0;34m**\u001b[0m\u001b[0;36m2\u001b[0m\u001b[0;34m*\u001b[0m\u001b[0mx1\u001b[0m\u001b[0;34m*\u001b[0m\u001b[0mx2\u001b[0m \u001b[0;34m+\u001b[0m \u001b[0mPs\u001b[0m\u001b[0;34m*\u001b[0m\u001b[0maMin\u001b[0m\u001b[0;34m**\u001b[0m\u001b[0;36m2\u001b[0m\u001b[0;34m*\u001b[0m\u001b[0mx2\u001b[0m\u001b[0;34m**\u001b[0m\u001b[0;36m2\u001b[0m\u001b[0;34m)\u001b[0m\u001b[0;34m/\u001b[0m\u001b[0;34m(\u001b[0m\u001b[0maM\u001b[0m\u001b[0;34m*\u001b[0m\u001b[0;34m(\u001b[0m\u001b[0;36m4\u001b[0m\u001b[0;34m*\u001b[0m\u001b[0md1\u001b[0m\u001b[0;34m**\u001b[0m\u001b[0;36m2\u001b[0m\u001b[0;34m*\u001b[0m\u001b[0ml\u001b[0m\u001b[0;34m**\u001b[0m\u001b[0;36m2\u001b[0m \u001b[0;34m-\u001b[0m \u001b[0;36m8\u001b[0m\u001b[0;34m*\u001b[0m\u001b[0md1\u001b[0m\u001b[0;34m*\u001b[0m\u001b[0md2\u001b[0m\u001b[0;34m*\u001b[0m\u001b[0ml\u001b[0m\u001b[0;34m**\u001b[0m\u001b[0;36m2\u001b[0m \u001b[0;34m+\u001b[0m \u001b[0;36m4\u001b[0m\u001b[0;34m*\u001b[0m\u001b[0md2\u001b[0m\u001b[0;34m**\u001b[0m\u001b[0;36m2\u001b[0m\u001b[0;34m*\u001b[0m\u001b[0ml\u001b[0m\u001b[0;34m**\u001b[0m\u001b[0;36m2\u001b[0m\u001b[0;34m)\u001b[0m \u001b[0;34m-\u001b[0m \u001b[0;36m4\u001b[0m\u001b[0;34m*\u001b[0m\u001b[0md1\u001b[0m\u001b[0;34m**\u001b[0m\u001b[0;36m3\u001b[0m\u001b[0;34m*\u001b[0m\u001b[0ml\u001b[0m\u001b[0;34m**\u001b[0m\u001b[0;36m2\u001b[0m \u001b[0;34m+\u001b[0m \u001b[0;36m8\u001b[0m\u001b[0;34m*\u001b[0m\u001b[0md1\u001b[0m\u001b[0;34m**\u001b[0m\u001b[0;36m2\u001b[0m\u001b[0;34m*\u001b[0m\u001b[0md2\u001b[0m\u001b[0;34m*\u001b[0m\u001b[0ml\u001b[0m\u001b[0;34m**\u001b[0m\u001b[0;36m2\u001b[0m \u001b[0;34m-\u001b[0m \u001b[0;36m4\u001b[0m\u001b[0;34m*\u001b[0m\u001b[0md1\u001b[0m\u001b[0;34m*\u001b[0m\u001b[0md2\u001b[0m\u001b[0;34m**\u001b[0m\u001b[0;36m2\u001b[0m\u001b[0;34m*\u001b[0m\u001b[0ml\u001b[0m\u001b[0;34m**\u001b[0m\u001b[0;36m2\u001b[0m \u001b[0;34m+\u001b[0m \u001b[0;36m4\u001b[0m\u001b[0;34m*\u001b[0m\u001b[0md1\u001b[0m\u001b[0;34m*\u001b[0m\u001b[0ml\u001b[0m\u001b[0;34m**\u001b[0m\u001b[0;36m2\u001b[0m\u001b[0;34m*\u001b[0m\u001b[0mx1\u001b[0m\u001b[0;34m**\u001b[0m\u001b[0;36m2\u001b[0m \u001b[0;34m-\u001b[0m \u001b[0;36m4\u001b[0m\u001b[0;34m*\u001b[0m\u001b[0md1\u001b[0m\u001b[0;34m*\u001b[0m\u001b[0ml\u001b[0m\u001b[0;34m**\u001b[0m\u001b[0;36m2\u001b[0m\u001b[0;34m*\u001b[0m\u001b[0mx1\u001b[0m\u001b[0;34m*\u001b[0m\u001b[0mx2\u001b[0m \u001b[0;34m-\u001b[0m \u001b[0;36m4\u001b[0m\u001b[0;34m*\u001b[0m\u001b[0md2\u001b[0m\u001b[0;34m*\u001b[0m\u001b[0ml\u001b[0m\u001b[0;34m**\u001b[0m\u001b[0;36m2\u001b[0m\u001b[0;34m*\u001b[0m\u001b[0mx1\u001b[0m\u001b[0;34m**\u001b[0m\u001b[0;36m2\u001b[0m \u001b[0;34m+\u001b[0m \u001b[0;36m4\u001b[0m\u001b[0;34m*\u001b[0m\u001b[0md2\u001b[0m\u001b[0;34m*\u001b[0m\u001b[0ml\u001b[0m\u001b[0;34m**\u001b[0m\u001b[0;36m2\u001b[0m\u001b[0;34m*\u001b[0m\u001b[0mx1\u001b[0m\u001b[0;34m*\u001b[0m\u001b[0mx2\u001b[0m\u001b[0;34m)\u001b[0m\u001b[0;34m,\u001b[0m \u001b[0;32mTrue\u001b[0m\u001b[0;34m)\u001b[0m\u001b[0;34m)\u001b[0m\u001b[0;34m,\u001b[0m \u001b[0maMin\u001b[0m \u001b[0;34m>\u001b[0m \u001b[0;36m0\u001b[0m\u001b[0;34m)\u001b[0m\u001b[0;34m,\u001b[0m \u001b[0;34m(\u001b[0m\u001b[0mPiecewise\u001b[0m\u001b[0;34m(\u001b[0m\u001b[0;34m(\u001b[0m\u001b[0mPs\u001b[0m\u001b[0;34m*\u001b[0m\u001b[0mz\u001b[0m\u001b[0;34m,\u001b[0m \u001b[0mmin0\u001b[0m \u001b[0;34m>\u001b[0m \u001b[0mz\u001b[0m\u001b[0;34m)\u001b[0m\u001b[0;34m,\u001b[0m \u001b[0;34m(\u001b[0m\u001b[0mPs\u001b[0m\u001b[0;34m*\u001b[0m\u001b[0mmin0\u001b[0m\u001b[0;34m,\u001b[0m \u001b[0;32mTrue\u001b[0m\u001b[0;34m)\u001b[0m\u001b[0;34m)\u001b[0m\u001b[0;34m,\u001b[0m \u001b[0;32mTrue\u001b[0m\u001b[0;34m)\u001b[0m\u001b[0;34m)\u001b[0m\u001b[0;34m\u001b[0m\u001b[0;34m\u001b[0m\u001b[0m\n\u001b[0m\u001b[1;32m      2\u001b[0m \u001b[0msimplify\u001b[0m\u001b[0;34m(\u001b[0m\u001b[0mf\u001b[0m\u001b[0;34m)\u001b[0m\u001b[0;34m\u001b[0m\u001b[0;34m\u001b[0m\u001b[0m\n",
      "\u001b[0;31mNameError\u001b[0m: name 'aM' is not defined"
     ]
    }
   ],
   "source": [
    "f = Piecewise((Piecewise((Ps*z + (Ps*aMin**2*x1**2 - 2*Ps*aMin**2*x1*x2 + Ps*aMin**2*x2**2)/(-4*d1**3*l**2 + 8*d1**2*d2*l**2 - 4*d1*d2**2*l**2 + 4*d1*l**2*x1**2 - 4*d1*l**2*x1*x2 - 4*d2*l**2*x1**2 + 4*d2*l**2*x1*x2 + z*(4*d1**2*l**2 - 8*d1*d2*l**2 + 4*d2**2*l**2)), aM > z), (Ps*aM + (Ps*aMin**2*x1**2 - 2*Ps*aMin**2*x1*x2 + Ps*aMin**2*x2**2)/(aM*(4*d1**2*l**2 - 8*d1*d2*l**2 + 4*d2**2*l**2) - 4*d1**3*l**2 + 8*d1**2*d2*l**2 - 4*d1*d2**2*l**2 + 4*d1*l**2*x1**2 - 4*d1*l**2*x1*x2 - 4*d2*l**2*x1**2 + 4*d2*l**2*x1*x2), True)), aMin > 0), (Piecewise((Ps*z, min0 > z), (Ps*min0, True)), True))\n",
    "simplify(f)"
   ]
  }
 ],
 "metadata": {
  "kernelspec": {
   "display_name": "Python 3.8.3 ('base')",
   "language": "python",
   "name": "python3"
  },
  "language_info": {
   "codemirror_mode": {
    "name": "ipython",
    "version": 3
   },
   "file_extension": ".py",
   "mimetype": "text/x-python",
   "name": "python",
   "nbconvert_exporter": "python",
   "pygments_lexer": "ipython3",
   "version": "3.8.3"
  },
  "orig_nbformat": 4,
  "vscode": {
   "interpreter": {
    "hash": "40d3a090f54c6569ab1632332b64b2c03c39dcf918b08424e98f38b5ae0af88f"
   }
  }
 },
 "nbformat": 4,
 "nbformat_minor": 2
}
